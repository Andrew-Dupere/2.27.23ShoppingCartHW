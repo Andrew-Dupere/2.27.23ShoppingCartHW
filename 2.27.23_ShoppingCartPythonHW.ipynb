{
 "cells": [
  {
   "cell_type": "markdown",
   "id": "3f2def61",
   "metadata": {},
   "source": [
    "Shopping car, add/remove/show/clear/quit commands, show current cart with quantity and total price, etc.\n",
    "\n",
    "Build a shopping cart program with the following capabilities:\n",
    "\n",
    "1) Takes in an input 2) Stores user input into a dictionary or list 3) The User can add or delete items 4) The User can see current shopping list 5) The program Loops until user 'quits' 6) Upon quiting the program, prints out a receipt of the items with total and quantity."
   ]
  },
  {
   "cell_type": "code",
   "execution_count": 1,
   "id": "fb65b73d",
   "metadata": {},
   "outputs": [],
   "source": [
    "from IPython.display import clear_output"
   ]
  },
  {
   "cell_type": "code",
   "execution_count": null,
   "id": "21f51035",
   "metadata": {},
   "outputs": [],
   "source": [
    "shopping_cart = {}\n",
    "    \n",
    "print('Welcome to the Grocery Store!')\n",
    "prompt = input('Type \"shop\" to shop\\nType \"quit\" to exit\\nType \"remove\" to remove an item\\nType \"cart\" to show cart\\n')\n",
    "\n",
    "while prompt != 'quit':\n",
    "\n",
    "    if prompt == 'shop':\n",
    "        clear_output()    \n",
    "        \n",
    "        food = input('What would you like to buy?')\n",
    "        quantity = int(input(f'How many would you like?'))\n",
    "        price = float(input(f'And what is the price of {food}?'))\n",
    "\n",
    "        shopping_cart[food] = [quantity,price]\n",
    "\n",
    "        for key,val in shopping_cart.items():\n",
    "            print(f\"{key}............${round((val[0])*(val[1]),2)}\")\n",
    "\n",
    "        prompt = input('Type \"shop\" to shop\\nType \"quit\" to exit\\nType \"remove\" to remove an item\\nType \"cart\" to show cart\\n')\n",
    "    \n",
    "    if prompt == 'cart':\n",
    "        clear_output()\n",
    "        print('Cart:')\n",
    "        for key,val in shopping_cart.items():\n",
    "            print(f\"{key}............${round((val[0])*(val[1]),2)}\")\n",
    "            \n",
    "        total = round(sum(val[0]*val[1] for key, val in shopping_cart.items()),2)\n",
    "        print(f\"Total:$ {total}\")\n",
    "        \n",
    "        prompt = input('Type \"shop\" to shop\\nType \"quit\" to exit\\nType \"remove\" to remove an item\\nType \"cart\" to show cart\\n')\n",
    "        \n",
    "    if prompt == 'remove':\n",
    "        clear_output()\n",
    "        print('Items in cart:')\n",
    "        for key in shopping_cart.keys():\n",
    "            print(key)\n",
    "        removal = input('Which item would you like to remove?')\n",
    "        del shopping_cart[removal]\n",
    "        print(f'{removal} has been removed from the cart')\n",
    "        prompt = input('Type \"shop\" to shop\\nType \"quit\" to exit\\nType \"remove\" to remove an item\\nType \"cart\" to show cart\\n')\n",
    "        \n",
    "if prompt == 'quit':\n",
    "    clear_output()\n",
    "    print(\"Receipt\")\n",
    "    for key,val in shopping_cart.items():\n",
    "        print(f\"{key} ({val[0]})............${round((val[0])*(val[1]),2)}\")\n",
    "\n",
    "    total = sum(val[0]*val[1] for key, val in shopping_cart.items())\n",
    "    print(f\"Total: {total}\")\n",
    "    print(\"Thank you!\")"
   ]
  }
 ],
 "metadata": {
  "kernelspec": {
   "display_name": "Python 3 (ipykernel)",
   "language": "python",
   "name": "python3"
  },
  "language_info": {
   "codemirror_mode": {
    "name": "ipython",
    "version": 3
   },
   "file_extension": ".py",
   "mimetype": "text/x-python",
   "name": "python",
   "nbconvert_exporter": "python",
   "pygments_lexer": "ipython3",
   "version": "3.9.13"
  }
 },
 "nbformat": 4,
 "nbformat_minor": 5
}
